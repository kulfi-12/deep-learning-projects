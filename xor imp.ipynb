{
 "cells": [
  {
   "cell_type": "markdown",
   "id": "40737902",
   "metadata": {},
   "source": [
    "# Solving XOR problem using DNN"
   ]
  },
  {
   "cell_type": "code",
   "execution_count": 48,
   "id": "6f13f205",
   "metadata": {},
   "outputs": [],
   "source": [
    "from sklearn.neural_network import MLPRegressor\n",
    "from sklearn.metrics import accuracy_score, precision_score,mean_squared_error\n",
    "import numpy as np\n",
    "import matplotlib.pyplot as plt"
   ]
  },
  {
   "cell_type": "markdown",
   "id": "0a49e504",
   "metadata": {},
   "source": [
    "### Define input data (X) and corresponding labels (y)"
   ]
  },
  {
   "cell_type": "code",
   "execution_count": 49,
   "id": "0c387d84",
   "metadata": {},
   "outputs": [],
   "source": [
    "X = [[0, 0], [0, 1], [1, 0], [1, 1]]\n",
    "y = [0, 1, 1, 0]"
   ]
  },
  {
   "cell_type": "markdown",
   "id": "a7dce92f",
   "metadata": {},
   "source": [
    "### Create a Multi-Layer Perceptron (MLP) Regressor model"
   ]
  },
  {
   "cell_type": "code",
   "execution_count": 50,
   "id": "4dd3e771",
   "metadata": {},
   "outputs": [],
   "source": [
    "regr = MLPRegressor(hidden_layer_sizes=(2),\n",
    "                    activation='tanh',\n",
    "                    solver='lbfgs')"
   ]
  },
  {
   "cell_type": "markdown",
   "id": "a249ceb5",
   "metadata": {},
   "source": [
    "### Fit the model on the input data and labels"
   ]
  },
  {
   "cell_type": "code",
   "execution_count": 51,
   "id": "cda4f0da",
   "metadata": {},
   "outputs": [],
   "source": [
    "model = regr.fit(X, y)\n"
   ]
  },
  {
   "cell_type": "markdown",
   "id": "b1f67979",
   "metadata": {},
   "source": [
    "### Define resolution for visualization"
   ]
  },
  {
   "cell_type": "code",
   "execution_count": 52,
   "id": "d763a08a",
   "metadata": {},
   "outputs": [],
   "source": [
    "res = 50\n",
    "output = [None] * res\n"
   ]
  },
  {
   "cell_type": "markdown",
   "id": "31327017",
   "metadata": {},
   "source": [
    "### Generate predictions for a grid of points and store in 'output'"
   ]
  },
  {
   "cell_type": "code",
   "execution_count": 53,
   "id": "71314261",
   "metadata": {},
   "outputs": [],
   "source": [
    "for i in range(res):\n",
    "    output[i] = [None] * res\n",
    "    for j in range(res):\n",
    "        x = np.array([i/res, j/res]).reshape(1, -1)\n",
    "        output[i][j] = model.predict(x)[0]"
   ]
  },
  {
   "cell_type": "markdown",
   "id": "e4201525",
   "metadata": {},
   "source": [
    "### Visualize results using a grayscale image"
   ]
  },
  {
   "cell_type": "code",
   "execution_count": 54,
   "id": "8b726b80",
   "metadata": {},
   "outputs": [
    {
     "data": {
      "image/png": "[encoded data removed]",
      "text/plain": [
       "<Figure size 1000x800 with 2 Axes>"
      ]
     },
     "metadata": {},
     "output_type": "display_data"
    }
   ],
   "source": [
    "fig = plt.figure(figsize=(10, 8))\n",
    "ax = fig.add_subplot(111)\n",
    "cax = plt.imshow(np.array(output), interpolation='nearest', vmin=0, vmax=1)\n",
    "cbar = fig.colorbar(cax, ticks=[0, 1])\n",
    "cbar.ax.tick_params(labelsize=15)\n",
    "plt.set_cmap('gray')\n",
    "plt.axis('off')\n",
    "\n",
    "# Annotate corners of the visualization with their corresponding input points\n",
    "table = {'0, 0':(-2, -1),\n",
    "         '0, 1':(-2, res+2),\n",
    "         '1, 0':(res-2, -1),\n",
    "         '1, 1':(res-2, res+2)}\n",
    "for text, corner in table.items():\n",
    "    ax.annotate(text, xy=corner, size=15, annotation_clip=False)\n",
    "\n",
    "# Display the visualization\n",
    "plt.show()"
   ]
  },
  {
   "cell_type": "markdown",
   "id": "5d93ab1a",
   "metadata": {},
   "source": [
    "### Calculate predicted outputs for the original data points (X)"
   ]
  },
  {
   "cell_type": "code",
   "execution_count": 55,
   "id": "adfd6e3e",
   "metadata": {},
   "outputs": [],
   "source": [
    "predicted_outputs = [round(model.predict(np.array(x).reshape(1, -1))[0]) for x in X]"
   ]
  },
  {
   "cell_type": "markdown",
   "id": "da9db109",
   "metadata": {},
   "source": [
    "### Calculating accuracy, precision and loss"
   ]
  },
  {
   "cell_type": "code",
   "execution_count": 56,
   "id": "5ff3de64",
   "metadata": {},
   "outputs": [
    {
     "name": "stdout",
     "output_type": "stream",
     "text": [
      "Accuracy: 1.0\n",
      "Precision: 1.0\n",
      "Test Loss: 0.0\n"
     ]
    }
   ],
   "source": [
    "#Calculate accuracy and precision using sklearn metrics\n",
    "accuracy = accuracy_score(y, predicted_outputs)\n",
    "precision = precision_score(y, predicted_outputs)\n",
    "test_loss = mean_squared_error(y, predicted_outputs)\n",
    "\n",
    "# Print calculated metrics\n",
    "print(\"Accuracy:\", accuracy)\n",
    "print(\"Precision:\", precision)\n",
    "print(\"Test Loss:\", test_loss)\n"
   ]
  },
  {
   "cell_type": "code",
   "execution_count": null,
   "id": "73e27dd1",
   "metadata": {},
   "outputs": [],
   "source": []
  }
 ],
 "metadata": {
  "kernelspec": {
   "display_name": "Python 3 (ipykernel)",
   "language": "python",
   "name": "python3"
  },
  "language_info": {
   "codemirror_mode": {
    "name": "ipython",
    "version": 3
   },
   "file_extension": ".py",
   "mimetype": "text/x-python",
   "name": "python",
   "nbconvert_exporter": "python",
   "pygments_lexer": "ipython3",
   "version": "3.11.3"
  }
 },
 "nbformat": 4,
 "nbformat_minor": 5
}
